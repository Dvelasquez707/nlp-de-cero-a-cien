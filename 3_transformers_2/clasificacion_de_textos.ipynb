{
 "cells": [
  {
   "cell_type": "markdown",
   "id": "b6545b65-5394-4375-826e-94953c55e76b",
   "metadata": {},
   "source": [
    "# Clasificación de textos con 🤗 Transformers\n",
    "\n",
    "> Cómo afinar un modelo de RoBERTa en español para clasificar las reseñas de Amazon."
   ]
  },
  {
   "cell_type": "markdown",
   "id": "94043fd4-cce0-402f-94c2-307492f1f3e6",
   "metadata": {},
   "source": [
    "## TODO\n",
    "\n",
    "* Add push to Hub section\n",
    "* Add try it out suggestions\n",
    "* Add label2id after push to Hub :)\n",
    "* Add YouTube videos from HF course"
   ]
  },
  {
   "cell_type": "markdown",
   "id": "d0e4c917-165d-43b9-924e-47782adbd6c7",
   "metadata": {},
   "source": [
    "## Configuración"
   ]
  },
  {
   "cell_type": "markdown",
   "id": "bc05ee00-b4ec-4ae5-8b49-bf2531f3d666",
   "metadata": {},
   "source": [
    "Si está ejecutando este notebook en Google Colab, ejecute la siguiente celda para instalar las bibliotecas que necesitamos:"
   ]
  },
  {
   "cell_type": "code",
   "execution_count": null,
   "id": "cc194002-5d32-4b46-a8c8-471d3a8af1ef",
   "metadata": {},
   "outputs": [],
   "source": [
    "!pip install transformers datasets"
   ]
  },
  {
   "cell_type": "markdown",
   "id": "c865ba89-9b87-4b91-bad3-97f5f4a66aa1",
   "metadata": {},
   "source": [
    "Para compartir tu modelo con la comunidad, primero crea una cuenta en el [Hugging Face Hub](https://huggingface.co/join). A continuación, ejecute la siguiente celda y proporcione su nombre de usuario y contraseña para generar un token de autenticación:"
   ]
  },
  {
   "cell_type": "code",
   "execution_count": null,
   "id": "59c65f87-8ad0-48e6-a208-833896599c90",
   "metadata": {},
   "outputs": [],
   "source": [
    "# Esto sólo funciona en Google Colab! Para los notebooks normales, es necesario ejecutar esto en el terminal\n",
    "!huggingface-cli login"
   ]
  },
  {
   "cell_type": "markdown",
   "id": "2dbb0a7a-2c4d-4c66-b626-8233f406fc1c",
   "metadata": {},
   "source": [
    "Si no tienes instalado [Git LFS](https://git-lfs.github.com), puedes hacerlo descomentando y ejecutando la celda de abajo:"
   ]
  },
  {
   "cell_type": "code",
   "execution_count": null,
   "id": "52ced30e-6759-44e5-b8cd-838f208c0ea6",
   "metadata": {},
   "outputs": [],
   "source": [
    "# !apt install git-lfs\n",
    "# !git config --global user.email \"you@example.com\"\n",
    "# !git config --global user.name \"Your Name\""
   ]
  },
  {
   "cell_type": "markdown",
   "id": "749879c3-fd1d-4f52-ac2b-d967a6c64c60",
   "metadata": {},
   "source": [
    "## Cargar y explorar los datos"
   ]
  },
  {
   "cell_type": "code",
   "execution_count": 1,
   "id": "79e2afa1-ce7d-4ff5-88ff-5c455bf0e5d5",
   "metadata": {},
   "outputs": [
    {
     "name": "stderr",
     "output_type": "stream",
     "text": [
      "Reusing dataset amazon_reviews_multi (/home/lewis/.cache/huggingface/datasets/amazon_reviews_multi/es/1.0.0/724e94f4b0c6c405ce7e476a6c5ef4f87db30799ad49f765094cf9770e0f7609)\n"
     ]
    },
    {
     "data": {
      "text/plain": [
       "DatasetDict({\n",
       "    train: Dataset({\n",
       "        features: ['review_id', 'product_id', 'reviewer_id', 'stars', 'review_body', 'review_title', 'language', 'product_category'],\n",
       "        num_rows: 200000\n",
       "    })\n",
       "    validation: Dataset({\n",
       "        features: ['review_id', 'product_id', 'reviewer_id', 'stars', 'review_body', 'review_title', 'language', 'product_category'],\n",
       "        num_rows: 5000\n",
       "    })\n",
       "    test: Dataset({\n",
       "        features: ['review_id', 'product_id', 'reviewer_id', 'stars', 'review_body', 'review_title', 'language', 'product_category'],\n",
       "        num_rows: 5000\n",
       "    })\n",
       "})"
      ]
     },
     "execution_count": 1,
     "metadata": {},
     "output_type": "execute_result"
    }
   ],
   "source": [
    "from datasets import load_dataset\n",
    "\n",
    "dataset = load_dataset(\"amazon_reviews_multi\", \"es\")\n",
    "dataset"
   ]
  },
  {
   "cell_type": "code",
   "execution_count": 3,
   "id": "375c2cd6-7118-400f-a8a1-f3bbd1ff6f81",
   "metadata": {},
   "outputs": [
    {
     "data": {
      "text/html": [
       "<table border=\"1\" class=\"dataframe\">\n",
       "  <thead>\n",
       "    <tr style=\"text-align: right;\">\n",
       "      <th></th>\n",
       "      <th>review_id</th>\n",
       "      <th>product_id</th>\n",
       "      <th>reviewer_id</th>\n",
       "      <th>stars</th>\n",
       "      <th>review_body</th>\n",
       "      <th>review_title</th>\n",
       "      <th>language</th>\n",
       "      <th>product_category</th>\n",
       "    </tr>\n",
       "  </thead>\n",
       "  <tbody>\n",
       "    <tr>\n",
       "      <th>0</th>\n",
       "      <td>es_0282471</td>\n",
       "      <td>product_es_0828344</td>\n",
       "      <td>reviewer_es_0284535</td>\n",
       "      <td>3</td>\n",
       "      <td>poca protección (espumas delgadas) tamaño correcto para bajo tipo jazz bass. las cremalleras se ven débiles (la del bolsillo se atasca un poco ya de nuevo) bolsillo simbólico, lo que pongas en el contacta casi directamente con el bajo. correas ajustables y cómodo de llevar en espalda. Si lo requieres para transportar en espalda sin necesidad de mucha protección es válido, pesa poco.</td>\n",
       "      <td>Cumple justito</td>\n",
       "      <td>es</td>\n",
       "      <td>musical_instruments</td>\n",
       "    </tr>\n",
       "    <tr>\n",
       "      <th>1</th>\n",
       "      <td>es_0610398</td>\n",
       "      <td>product_es_0412748</td>\n",
       "      <td>reviewer_es_0060942</td>\n",
       "      <td>3</td>\n",
       "      <td>Me ha gustado mucho la presentacion y los.aromas X lo q no doy 5 es xq un frasco venia.abierto y medio vacio</td>\n",
       "      <td>Calidad precio buena</td>\n",
       "      <td>es</td>\n",
       "      <td>drugstore</td>\n",
       "    </tr>\n",
       "    <tr>\n",
       "      <th>2</th>\n",
       "      <td>es_0869976</td>\n",
       "      <td>product_es_0779517</td>\n",
       "      <td>reviewer_es_0113188</td>\n",
       "      <td>3</td>\n",
       "      <td>La pieza viene muy bien pero no me gusta la presentación por que era para un regalo y venia en una bolsita de plástico por lo menos podían poner un saquito de terciopelo de los que ponen en joyería donde vende Pandora , tuve que ir a g buscar cajitas de regalo para joyas que es otro gasto más que fuera echo falta si lo fuera comprado en joyeria y no se si será original por no trae un certificado como otras piezas</td>\n",
       "      <td>Raúl L.</td>\n",
       "      <td>es</td>\n",
       "      <td>jewelry</td>\n",
       "    </tr>\n",
       "    <tr>\n",
       "      <th>3</th>\n",
       "      <td>es_0916971</td>\n",
       "      <td>product_es_0506933</td>\n",
       "      <td>reviewer_es_0265333</td>\n",
       "      <td>5</td>\n",
       "      <td>Hasta el momento todo ha ido perfecto. Producto de calidad que cumple con lo prometido</td>\n",
       "      <td>Gran acierto</td>\n",
       "      <td>es</td>\n",
       "      <td>toy</td>\n",
       "    </tr>\n",
       "    <tr>\n",
       "      <th>4</th>\n",
       "      <td>es_0850186</td>\n",
       "      <td>product_es_0595711</td>\n",
       "      <td>reviewer_es_0045447</td>\n",
       "      <td>1</td>\n",
       "      <td>No puedo opinar de la calidad. Lo tuve que devolver porque lo que recibí no era lo publicitado. El que me enviaron tenía dos mandos individuales y no uno solo. El servicio de devolución como siempre sin problemas.</td>\n",
       "      <td>Tuve que devolverlo</td>\n",
       "      <td>es</td>\n",
       "      <td>personal_care_appliances</td>\n",
       "    </tr>\n",
       "    <tr>\n",
       "      <th>5</th>\n",
       "      <td>es_0360116</td>\n",
       "      <td>product_es_0654936</td>\n",
       "      <td>reviewer_es_0293116</td>\n",
       "      <td>2</td>\n",
       "      <td>Los hemos tenido que devolver ya que no sonaban en estero y presentaban deficiencias</td>\n",
       "      <td>Tienen que mejorarlos</td>\n",
       "      <td>es</td>\n",
       "      <td>wireless</td>\n",
       "    </tr>\n",
       "    <tr>\n",
       "      <th>6</th>\n",
       "      <td>es_0020652</td>\n",
       "      <td>product_es_0636725</td>\n",
       "      <td>reviewer_es_0062476</td>\n",
       "      <td>5</td>\n",
       "      <td>Cumple con su cometido sin más materiales de calidad</td>\n",
       "      <td>Cumple con su cometido</td>\n",
       "      <td>es</td>\n",
       "      <td>home</td>\n",
       "    </tr>\n",
       "    <tr>\n",
       "      <th>7</th>\n",
       "      <td>es_0448974</td>\n",
       "      <td>product_es_0703134</td>\n",
       "      <td>reviewer_es_0795225</td>\n",
       "      <td>1</td>\n",
       "      <td>Me ha llegado el producto hace 5 días. No funciona, no arranca. Probe en distintos tomas que se que funcionan y nada. Solicite la devolución y aun no se han puesto en contacto conmigo. Lamentable.</td>\n",
       "      <td>No funciona</td>\n",
       "      <td>es</td>\n",
       "      <td>home</td>\n",
       "    </tr>\n",
       "    <tr>\n",
       "      <th>8</th>\n",
       "      <td>es_0170254</td>\n",
       "      <td>product_es_0356528</td>\n",
       "      <td>reviewer_es_0800691</td>\n",
       "      <td>1</td>\n",
       "      <td>Muy mala calidad. Lo instalé y a día siguiente el eje de apoyo doblado, no aguanta bien el peso. Solo para dejar fija. No lo recomiendo</td>\n",
       "      <td>Baja calidad</td>\n",
       "      <td>es</td>\n",
       "      <td>electronics</td>\n",
       "    </tr>\n",
       "    <tr>\n",
       "      <th>9</th>\n",
       "      <td>es_0488278</td>\n",
       "      <td>product_es_0295588</td>\n",
       "      <td>reviewer_es_0297624</td>\n",
       "      <td>4</td>\n",
       "      <td>Un poco grandes. Quedan en la mano holgados a pesar d ser mi talla.dan más talla de lo habitual....una más.</td>\n",
       "      <td>Dan mucha tallA</td>\n",
       "      <td>es</td>\n",
       "      <td>sports</td>\n",
       "    </tr>\n",
       "  </tbody>\n",
       "</table>"
      ],
      "text/plain": [
       "<IPython.core.display.HTML object>"
      ]
     },
     "metadata": {},
     "output_type": "display_data"
    }
   ],
   "source": [
    "import random\n",
    "import pandas as pd\n",
    "from datasets import ClassLabel\n",
    "from IPython.display import display, HTML\n",
    "\n",
    "def show_random_elements(dataset, num_examples=10):\n",
    "    \"Taken from https://github.com/huggingface/notebooks/blob/master/examples/text_classification.ipynb\"\n",
    "    \n",
    "    assert num_examples <= len(dataset), \"Can't pick more elements than there are in the dataset.\"\n",
    "    picks = []\n",
    "    for _ in range(num_examples):\n",
    "        pick = random.randint(0, len(dataset)-1)\n",
    "        while pick in picks:\n",
    "            pick = random.randint(0, len(dataset)-1)\n",
    "        picks.append(pick)\n",
    "    \n",
    "    df = pd.DataFrame(dataset[picks])\n",
    "    for column, typ in dataset.features.items():\n",
    "        if isinstance(typ, ClassLabel):\n",
    "            df[column] = df[column].transform(lambda i: typ.names[i])\n",
    "    display(HTML(df.to_html()))\n",
    "\n",
    "show_random_elements(dataset[\"train\"])"
   ]
  },
  {
   "cell_type": "code",
   "execution_count": 4,
   "id": "1653924b-93d3-4e4f-a5a9-d116d65d73cd",
   "metadata": {},
   "outputs": [
    {
     "data": {
      "text/html": [
       "<div>\n",
       "<style scoped>\n",
       "    .dataframe tbody tr th:only-of-type {\n",
       "        vertical-align: middle;\n",
       "    }\n",
       "\n",
       "    .dataframe tbody tr th {\n",
       "        vertical-align: top;\n",
       "    }\n",
       "\n",
       "    .dataframe thead th {\n",
       "        text-align: right;\n",
       "    }\n",
       "</style>\n",
       "<table border=\"1\" class=\"dataframe\">\n",
       "  <thead>\n",
       "    <tr style=\"text-align: right;\">\n",
       "      <th></th>\n",
       "      <th>review_id</th>\n",
       "      <th>product_id</th>\n",
       "      <th>reviewer_id</th>\n",
       "      <th>stars</th>\n",
       "      <th>review_body</th>\n",
       "      <th>review_title</th>\n",
       "      <th>language</th>\n",
       "      <th>product_category</th>\n",
       "    </tr>\n",
       "  </thead>\n",
       "  <tbody>\n",
       "    <tr>\n",
       "      <th>0</th>\n",
       "      <td>es_0491108</td>\n",
       "      <td>product_es_0296024</td>\n",
       "      <td>reviewer_es_0999081</td>\n",
       "      <td>1</td>\n",
       "      <td>Nada bueno se me fue ka pantalla en menos de 8...</td>\n",
       "      <td>television Nevir</td>\n",
       "      <td>es</td>\n",
       "      <td>electronics</td>\n",
       "    </tr>\n",
       "    <tr>\n",
       "      <th>1</th>\n",
       "      <td>es_0869872</td>\n",
       "      <td>product_es_0922286</td>\n",
       "      <td>reviewer_es_0216771</td>\n",
       "      <td>1</td>\n",
       "      <td>Horrible, nos tuvimos que comprar otro porque ...</td>\n",
       "      <td>Dinero tirado a la basura con esta compra</td>\n",
       "      <td>es</td>\n",
       "      <td>electronics</td>\n",
       "    </tr>\n",
       "    <tr>\n",
       "      <th>2</th>\n",
       "      <td>es_0811721</td>\n",
       "      <td>product_es_0474543</td>\n",
       "      <td>reviewer_es_0929213</td>\n",
       "      <td>1</td>\n",
       "      <td>Te obligan a comprar dos unidades y te llega s...</td>\n",
       "      <td>solo llega una unidad cuando te obligan a comp...</td>\n",
       "      <td>es</td>\n",
       "      <td>drugstore</td>\n",
       "    </tr>\n",
       "    <tr>\n",
       "      <th>3</th>\n",
       "      <td>es_0359921</td>\n",
       "      <td>product_es_0656090</td>\n",
       "      <td>reviewer_es_0224702</td>\n",
       "      <td>1</td>\n",
       "      <td>No entro en descalificar al vendedor, solo pue...</td>\n",
       "      <td>PRODUCTO NO RECIBIDO.</td>\n",
       "      <td>es</td>\n",
       "      <td>wireless</td>\n",
       "    </tr>\n",
       "    <tr>\n",
       "      <th>4</th>\n",
       "      <td>es_0068940</td>\n",
       "      <td>product_es_0662544</td>\n",
       "      <td>reviewer_es_0224827</td>\n",
       "      <td>1</td>\n",
       "      <td>Llega tarde y co la talla equivocada</td>\n",
       "      <td>Devuelto</td>\n",
       "      <td>es</td>\n",
       "      <td>shoes</td>\n",
       "    </tr>\n",
       "  </tbody>\n",
       "</table>\n",
       "</div>"
      ],
      "text/plain": [
       "    review_id          product_id          reviewer_id  stars  \\\n",
       "0  es_0491108  product_es_0296024  reviewer_es_0999081      1   \n",
       "1  es_0869872  product_es_0922286  reviewer_es_0216771      1   \n",
       "2  es_0811721  product_es_0474543  reviewer_es_0929213      1   \n",
       "3  es_0359921  product_es_0656090  reviewer_es_0224702      1   \n",
       "4  es_0068940  product_es_0662544  reviewer_es_0224827      1   \n",
       "\n",
       "                                         review_body  \\\n",
       "0  Nada bueno se me fue ka pantalla en menos de 8...   \n",
       "1  Horrible, nos tuvimos que comprar otro porque ...   \n",
       "2  Te obligan a comprar dos unidades y te llega s...   \n",
       "3  No entro en descalificar al vendedor, solo pue...   \n",
       "4               Llega tarde y co la talla equivocada   \n",
       "\n",
       "                                        review_title language product_category  \n",
       "0                                   television Nevir       es      electronics  \n",
       "1          Dinero tirado a la basura con esta compra       es      electronics  \n",
       "2  solo llega una unidad cuando te obligan a comp...       es        drugstore  \n",
       "3                              PRODUCTO NO RECIBIDO.       es         wireless  \n",
       "4                                           Devuelto       es            shoes  "
      ]
     },
     "execution_count": 4,
     "metadata": {},
     "output_type": "execute_result"
    }
   ],
   "source": [
    "dataset.set_format(\"pandas\")\n",
    "df = dataset[\"train\"][:]\n",
    "df.head()"
   ]
  },
  {
   "cell_type": "code",
   "execution_count": 5,
   "id": "2529ce79-10eb-45fa-9192-d874143945c3",
   "metadata": {},
   "outputs": [
    {
     "data": {
      "text/plain": [
       "home                        26962\n",
       "wireless                    25886\n",
       "toy                         13647\n",
       "sports                      13189\n",
       "pc                          11191\n",
       "home_improvement            10879\n",
       "electronics                 10385\n",
       "beauty                       7337\n",
       "automotive                   7143\n",
       "kitchen                      6695\n",
       "apparel                      5737\n",
       "drugstore                    5513\n",
       "book                         5264\n",
       "furniture                    5229\n",
       "baby_product                 4881\n",
       "office_product               4771\n",
       "lawn_and_garden              4237\n",
       "other                        3937\n",
       "pet_products                 3713\n",
       "personal_care_appliances     3573\n",
       "luggage                      3328\n",
       "camera                       3029\n",
       "shoes                        2754\n",
       "digital_ebook_purchase       1843\n",
       "video_games                  1733\n",
       "jewelry                      1598\n",
       "musical_instruments          1530\n",
       "watch                        1490\n",
       "industrial_supplies          1482\n",
       "grocery                      1044\n",
       "Name: product_category, dtype: int64"
      ]
     },
     "execution_count": 5,
     "metadata": {},
     "output_type": "execute_result"
    }
   ],
   "source": [
    "df[\"product_category\"].value_counts()"
   ]
  },
  {
   "cell_type": "code",
   "execution_count": 6,
   "id": "ab53e911-2374-4ed9-8763-8824ab105d46",
   "metadata": {},
   "outputs": [
    {
     "data": {
      "text/plain": [
       "1    40000\n",
       "2    40000\n",
       "3    40000\n",
       "4    40000\n",
       "5    40000\n",
       "Name: stars, dtype: int64"
      ]
     },
     "execution_count": 6,
     "metadata": {},
     "output_type": "execute_result"
    }
   ],
   "source": [
    "df[\"stars\"].value_counts()"
   ]
  },
  {
   "cell_type": "code",
   "execution_count": 7,
   "id": "00b2a622-e698-42cf-b964-2f2588c3fd29",
   "metadata": {},
   "outputs": [],
   "source": [
    "dataset.reset_format()"
   ]
  },
  {
   "cell_type": "markdown",
   "id": "e49a1eef-e1af-45e9-b950-2cd413cb6920",
   "metadata": {},
   "source": [
    "## Fusionar las clasificaciones por estrellas"
   ]
  },
  {
   "cell_type": "code",
   "execution_count": 8,
   "id": "aa09b89c-323a-4734-ad74-284c21413d00",
   "metadata": {},
   "outputs": [
    {
     "name": "stderr",
     "output_type": "stream",
     "text": [
      "Loading cached processed dataset at /home/lewis/.cache/huggingface/datasets/amazon_reviews_multi/es/1.0.0/724e94f4b0c6c405ce7e476a6c5ef4f87db30799ad49f765094cf9770e0f7609/cache-9593cf0948d4f539.arrow\n",
      "Loading cached processed dataset at /home/lewis/.cache/huggingface/datasets/amazon_reviews_multi/es/1.0.0/724e94f4b0c6c405ce7e476a6c5ef4f87db30799ad49f765094cf9770e0f7609/cache-48e312ff9c17ae46.arrow\n",
      "Loading cached processed dataset at /home/lewis/.cache/huggingface/datasets/amazon_reviews_multi/es/1.0.0/724e94f4b0c6c405ce7e476a6c5ef4f87db30799ad49f765094cf9770e0f7609/cache-22bca18e576e3ef2.arrow\n"
     ]
    }
   ],
   "source": [
    "dataset = dataset.filter(lambda x : x[\"stars\"] != 3)"
   ]
  },
  {
   "cell_type": "code",
   "execution_count": 9,
   "id": "38a9278e-a8dd-41f0-a271-3d8bc871d17d",
   "metadata": {},
   "outputs": [],
   "source": [
    "def merge_star_ratings(examples):\n",
    "    if examples[\"stars\"] <= 2:\n",
    "        label = 0\n",
    "    else:\n",
    "        label = 1\n",
    "    return {\"labels\": label}"
   ]
  },
  {
   "cell_type": "code",
   "execution_count": 10,
   "id": "825facae-7287-4fed-a1b3-b9c46c6deec9",
   "metadata": {},
   "outputs": [
    {
     "name": "stderr",
     "output_type": "stream",
     "text": [
      "Loading cached processed dataset at /home/lewis/.cache/huggingface/datasets/amazon_reviews_multi/es/1.0.0/724e94f4b0c6c405ce7e476a6c5ef4f87db30799ad49f765094cf9770e0f7609/cache-bcdebbad383c8b3f.arrow\n",
      "Loading cached processed dataset at /home/lewis/.cache/huggingface/datasets/amazon_reviews_multi/es/1.0.0/724e94f4b0c6c405ce7e476a6c5ef4f87db30799ad49f765094cf9770e0f7609/cache-4ceba60057897618.arrow\n",
      "Loading cached processed dataset at /home/lewis/.cache/huggingface/datasets/amazon_reviews_multi/es/1.0.0/724e94f4b0c6c405ce7e476a6c5ef4f87db30799ad49f765094cf9770e0f7609/cache-8afdc3fe1e246b00.arrow\n"
     ]
    }
   ],
   "source": [
    "dataset = dataset.map(merge_star_ratings)"
   ]
  },
  {
   "cell_type": "code",
   "execution_count": 11,
   "id": "f5cfb477-a6cc-41bf-becc-b7bbfcaf6aea",
   "metadata": {},
   "outputs": [
    {
     "data": {
      "text/html": [
       "<table border=\"1\" class=\"dataframe\">\n",
       "  <thead>\n",
       "    <tr style=\"text-align: right;\">\n",
       "      <th></th>\n",
       "      <th>review_id</th>\n",
       "      <th>product_id</th>\n",
       "      <th>reviewer_id</th>\n",
       "      <th>stars</th>\n",
       "      <th>review_body</th>\n",
       "      <th>review_title</th>\n",
       "      <th>language</th>\n",
       "      <th>product_category</th>\n",
       "      <th>labels</th>\n",
       "    </tr>\n",
       "  </thead>\n",
       "  <tbody>\n",
       "    <tr>\n",
       "      <th>0</th>\n",
       "      <td>es_0612794</td>\n",
       "      <td>product_es_0389112</td>\n",
       "      <td>reviewer_es_0217587</td>\n",
       "      <td>4</td>\n",
       "      <td>Cubre casi como un maquillaje y con protección solar. Crema fluida.</td>\n",
       "      <td>Buena compra</td>\n",
       "      <td>es</td>\n",
       "      <td>beauty</td>\n",
       "      <td>1</td>\n",
       "    </tr>\n",
       "    <tr>\n",
       "      <th>1</th>\n",
       "      <td>es_0554680</td>\n",
       "      <td>product_es_0467320</td>\n",
       "      <td>reviewer_es_0547677</td>\n",
       "      <td>1</td>\n",
       "      <td>No afila como dicen y una de las piezas que afila se desplazo de su sitio en unas 3 semanas, ahora ya no hace nada</td>\n",
       "      <td>Mal Resultado</td>\n",
       "      <td>es</td>\n",
       "      <td>home</td>\n",
       "      <td>0</td>\n",
       "    </tr>\n",
       "    <tr>\n",
       "      <th>2</th>\n",
       "      <td>es_0302644</td>\n",
       "      <td>product_es_0500629</td>\n",
       "      <td>reviewer_es_0350316</td>\n",
       "      <td>1</td>\n",
       "      <td>Pésimo, no se adapta bien porque no cubre toda la pantalla y no cubre la parte redonda de la pantalla y se queda al aire por donde entrar polvo. Al no ajustar bien hay puntos donde el táctil no funciona y encima el reconocimiento por huella dactilar no te reconoce. No recomiendo para nada su compra, es tirar el dinero -10 de 10. De que sirve un protector si luego la pantalla no funciona bien.</td>\n",
       "      <td>Protector pesimo</td>\n",
       "      <td>es</td>\n",
       "      <td>wireless</td>\n",
       "      <td>0</td>\n",
       "    </tr>\n",
       "  </tbody>\n",
       "</table>"
      ],
      "text/plain": [
       "<IPython.core.display.HTML object>"
      ]
     },
     "metadata": {},
     "output_type": "display_data"
    }
   ],
   "source": [
    "show_random_elements(dataset[\"train\"], num_examples=3)"
   ]
  },
  {
   "cell_type": "markdown",
   "id": "adfe2083-e959-446a-a831-90139c8ebbe4",
   "metadata": {
    "tags": []
   },
   "source": [
    "## Tokenizar las reseñas"
   ]
  },
  {
   "cell_type": "code",
   "execution_count": 4,
   "id": "8aa254bb-162f-44e4-9b40-595a90ad220c",
   "metadata": {},
   "outputs": [],
   "source": [
    "from transformers import AutoTokenizer\n",
    "\n",
    "model_checkpoint = \"BSC-TeMU/roberta-base-bne\"\n",
    "tokenizer = AutoTokenizer.from_pretrained(model_checkpoint)"
   ]
  },
  {
   "cell_type": "code",
   "execution_count": 13,
   "id": "55cfde4b-6b30-4942-b664-fdb86af23ac8",
   "metadata": {},
   "outputs": [
    {
     "data": {
      "text/plain": [
       "50262"
      ]
     },
     "execution_count": 13,
     "metadata": {},
     "output_type": "execute_result"
    }
   ],
   "source": [
    "tokenizer.vocab_size"
   ]
  },
  {
   "cell_type": "code",
   "execution_count": 14,
   "id": "8edd6d92-bc62-4bfc-bebf-0ce4713dfa8b",
   "metadata": {},
   "outputs": [
    {
     "name": "stdout",
     "output_type": "stream",
     "text": [
      "0 <s>\n",
      "1465 ¡\n",
      "12616 hola\n",
      "66 ,\n",
      "503  me\n",
      "17111  llamo\n",
      "532  le\n",
      "19514 wis\n",
      "55 !\n",
      "2 </s>\n"
     ]
    }
   ],
   "source": [
    "text = \"¡hola, me llamo lewis!\"\n",
    "tokenized_text = tokenizer.encode(text)\n",
    "\n",
    "for token in tokenized_text:\n",
    "    print(token, tokenizer.decode([token]))"
   ]
  },
  {
   "cell_type": "code",
   "execution_count": 15,
   "id": "523904b0-c3a8-4b1a-8947-309c27f61372",
   "metadata": {},
   "outputs": [
    {
     "data": {
      "text/plain": [
       "{'input_ids': tensor([[    0,  1465, 12616,    66,   503, 17111,   532, 19514,    55,     2]]), 'attention_mask': tensor([[1, 1, 1, 1, 1, 1, 1, 1, 1, 1]])}"
      ]
     },
     "execution_count": 15,
     "metadata": {},
     "output_type": "execute_result"
    }
   ],
   "source": [
    "encoded_text = tokenizer(text, return_tensors=\"pt\")\n",
    "encoded_text"
   ]
  },
  {
   "cell_type": "code",
   "execution_count": 16,
   "id": "f5ab78b5-f8d7-4701-98d5-42a7bb9cc677",
   "metadata": {},
   "outputs": [],
   "source": [
    "def tokenize_reviews(examples):\n",
    "    return tokenizer(examples[\"review_body\"], truncation=True)"
   ]
  },
  {
   "cell_type": "code",
   "execution_count": 17,
   "id": "48c07922-100f-40b5-8b45-87448bde2f0f",
   "metadata": {},
   "outputs": [
    {
     "name": "stderr",
     "output_type": "stream",
     "text": [
      "Loading cached processed dataset at /home/lewis/.cache/huggingface/datasets/amazon_reviews_multi/es/1.0.0/724e94f4b0c6c405ce7e476a6c5ef4f87db30799ad49f765094cf9770e0f7609/cache-fd6211328c270752.arrow\n",
      "Loading cached processed dataset at /home/lewis/.cache/huggingface/datasets/amazon_reviews_multi/es/1.0.0/724e94f4b0c6c405ce7e476a6c5ef4f87db30799ad49f765094cf9770e0f7609/cache-310f36bb4cf95611.arrow\n",
      "Loading cached processed dataset at /home/lewis/.cache/huggingface/datasets/amazon_reviews_multi/es/1.0.0/724e94f4b0c6c405ce7e476a6c5ef4f87db30799ad49f765094cf9770e0f7609/cache-27c48d0c72d51279.arrow\n"
     ]
    },
    {
     "data": {
      "text/plain": [
       "DatasetDict({\n",
       "    train: Dataset({\n",
       "        features: ['attention_mask', 'input_ids', 'labels'],\n",
       "        num_rows: 160000\n",
       "    })\n",
       "    validation: Dataset({\n",
       "        features: ['attention_mask', 'input_ids', 'labels'],\n",
       "        num_rows: 4000\n",
       "    })\n",
       "    test: Dataset({\n",
       "        features: ['attention_mask', 'input_ids', 'labels'],\n",
       "        num_rows: 4000\n",
       "    })\n",
       "})"
      ]
     },
     "execution_count": 17,
     "metadata": {},
     "output_type": "execute_result"
    }
   ],
   "source": [
    "columns = dataset[\"train\"].column_names\n",
    "columns.remove(\"labels\")\n",
    "encoded_dataset = dataset.map(tokenize_reviews, batched=True, remove_columns=columns)\n",
    "encoded_dataset"
   ]
  },
  {
   "cell_type": "code",
   "execution_count": 18,
   "id": "0c02f46d-da3a-4198-a689-3936ece6948d",
   "metadata": {},
   "outputs": [
    {
     "data": {
      "text/plain": [
       "{'attention_mask': [1,\n",
       "  1,\n",
       "  1,\n",
       "  1,\n",
       "  1,\n",
       "  1,\n",
       "  1,\n",
       "  1,\n",
       "  1,\n",
       "  1,\n",
       "  1,\n",
       "  1,\n",
       "  1,\n",
       "  1,\n",
       "  1,\n",
       "  1,\n",
       "  1,\n",
       "  1,\n",
       "  1,\n",
       "  1,\n",
       "  1],\n",
       " 'input_ids': [0,\n",
       "  10626,\n",
       "  3383,\n",
       "  361,\n",
       "  503,\n",
       "  847,\n",
       "  36181,\n",
       "  4747,\n",
       "  334,\n",
       "  1111,\n",
       "  313,\n",
       "  1369,\n",
       "  1635,\n",
       "  342,\n",
       "  403,\n",
       "  1594,\n",
       "  4162,\n",
       "  2957,\n",
       "  369,\n",
       "  10925,\n",
       "  2],\n",
       " 'labels': 0}"
      ]
     },
     "execution_count": 18,
     "metadata": {},
     "output_type": "execute_result"
    }
   ],
   "source": [
    "encoded_dataset[\"train\"][0]"
   ]
  },
  {
   "cell_type": "markdown",
   "id": "631e602b-deb5-4d3b-b01a-c5934a37f573",
   "metadata": {
    "tags": []
   },
   "source": [
    "## Cargar el modelo preentrenado"
   ]
  },
  {
   "cell_type": "code",
   "execution_count": 5,
   "id": "ff98a5b1-6415-4d7e-ba47-7d89ce7ebfe4",
   "metadata": {},
   "outputs": [
    {
     "name": "stderr",
     "output_type": "stream",
     "text": [
      "Some weights of the model checkpoint at BSC-TeMU/roberta-base-bne were not used when initializing RobertaForSequenceClassification: ['lm_head.layer_norm.weight', 'lm_head.bias', 'lm_head.decoder.weight', 'lm_head.layer_norm.bias', 'lm_head.dense.weight', 'lm_head.dense.bias', 'lm_head.decoder.bias']\n",
      "- This IS expected if you are initializing RobertaForSequenceClassification from the checkpoint of a model trained on another task or with another architecture (e.g. initializing a BertForSequenceClassification model from a BertForPreTraining model).\n",
      "- This IS NOT expected if you are initializing RobertaForSequenceClassification from the checkpoint of a model that you expect to be exactly identical (initializing a BertForSequenceClassification model from a BertForSequenceClassification model).\n",
      "Some weights of RobertaForSequenceClassification were not initialized from the model checkpoint at BSC-TeMU/roberta-base-bne and are newly initialized: ['classifier.dense.weight', 'classifier.dense.bias', 'classifier.out_proj.weight', 'classifier.out_proj.bias']\n",
      "You should probably TRAIN this model on a down-stream task to be able to use it for predictions and inference.\n"
     ]
    }
   ],
   "source": [
    "from transformers import AutoModelForSequenceClassification\n",
    "\n",
    "num_labels = 2\n",
    "model = AutoModelForSequenceClassification.from_pretrained(model_checkpoint, num_labels=num_labels)"
   ]
  },
  {
   "cell_type": "markdown",
   "id": "5bda30da-6725-4a50-b905-e13456bfde52",
   "metadata": {},
   "source": [
    "### De las input IDs a los hidden states"
   ]
  },
  {
   "cell_type": "code",
   "execution_count": 20,
   "id": "ee527ed1-9ea6-48fe-a0fc-79594c5388c6",
   "metadata": {},
   "outputs": [
    {
     "data": {
      "text/plain": [
       "SequenceClassifierOutput(loss=None, logits=tensor([[0.1087, 0.0641]], grad_fn=<AddmmBackward>), hidden_states=None, attentions=None)"
      ]
     },
     "execution_count": 20,
     "metadata": {},
     "output_type": "execute_result"
    }
   ],
   "source": [
    "outputs = model(**encoded_text)\n",
    "outputs"
   ]
  },
  {
   "cell_type": "markdown",
   "id": "7c58d614-c1bf-45f0-8a45-858edac56d4c",
   "metadata": {},
   "source": [
    "## Definir las métricas de rendimiento"
   ]
  },
  {
   "cell_type": "code",
   "execution_count": 21,
   "id": "195cb452-a01c-4804-9266-4054c50f89f3",
   "metadata": {},
   "outputs": [
    {
     "data": {
      "text/plain": [
       "Metric(name: \"accuracy\", features: {'predictions': Value(dtype='int32', id=None), 'references': Value(dtype='int32', id=None)}, usage: \"\"\"\n",
       "Args:\n",
       "    predictions: Predicted labels, as returned by a model.\n",
       "    references: Ground truth labels.\n",
       "    normalize: If False, return the number of correctly classified samples.\n",
       "        Otherwise, return the fraction of correctly classified samples.\n",
       "    sample_weight: Sample weights.\n",
       "Returns:\n",
       "    accuracy: Accuracy score.\n",
       "Examples:\n",
       "\n",
       "    >>> accuracy_metric = datasets.load_metric(\"accuracy\")\n",
       "    >>> results = accuracy_metric.compute(references=[0, 1], predictions=[0, 1])\n",
       "    >>> print(results)\n",
       "    {'accuracy': 1.0}\n",
       "\"\"\", stored examples: 0)"
      ]
     },
     "execution_count": 21,
     "metadata": {},
     "output_type": "execute_result"
    }
   ],
   "source": [
    "from datasets import load_metric \n",
    "\n",
    "metric = load_metric(\"accuracy\")\n",
    "metric"
   ]
  },
  {
   "cell_type": "code",
   "execution_count": 22,
   "id": "c4ebab1c-893c-4eb9-8f51-9e55c6596463",
   "metadata": {},
   "outputs": [],
   "source": [
    "import numpy as np\n",
    "\n",
    "def compute_metrics(eval_pred):\n",
    "    predictions, labels = eval_pred\n",
    "    predictions = np.argmax(predictions, axis=1)\n",
    "    return metric.compute(predictions=predictions, references=labels)"
   ]
  },
  {
   "cell_type": "markdown",
   "id": "9b77a005-0f56-42cb-a1e3-c231fd851305",
   "metadata": {},
   "source": [
    "## Afinar el modelo preentrenado"
   ]
  },
  {
   "cell_type": "code",
   "execution_count": 23,
   "id": "75fc4131-7a48-42bb-b9a7-f8df40a05aaf",
   "metadata": {},
   "outputs": [
    {
     "name": "stderr",
     "output_type": "stream",
     "text": [
      "Loading cached shuffled indices for dataset at /home/lewis/.cache/huggingface/datasets/amazon_reviews_multi/es/1.0.0/724e94f4b0c6c405ce7e476a6c5ef4f87db30799ad49f765094cf9770e0f7609/cache-98a28664b1adea9d.arrow\n"
     ]
    }
   ],
   "source": [
    "from transformers import TrainingArguments\n",
    "\n",
    "model_name = model_checkpoint.split(\"/\")[-1]\n",
    "\n",
    "batch_size = 16\n",
    "num_train_epochs=2\n",
    "num_train_samples = 20_000\n",
    "train_dataset = encoded_dataset[\"train\"].shuffle(seed=42).select(range(num_train_samples))\n",
    "logging_steps = len(train_dataset) // (2 * batch_size * num_train_epochs)\n",
    "\n",
    "training_args = TrainingArguments(\n",
    "    output_dir=\"results\",\n",
    "    num_train_epochs=num_train_epochs,     \n",
    "    learning_rate=2e-5,\n",
    "    per_device_train_batch_size=batch_size,\n",
    "    per_device_eval_batch_size=batch_size,\n",
    "    load_best_model_at_end=True,\n",
    "    metric_for_best_model=\"accuracy\",\n",
    "    weight_decay=0.01,\n",
    "    evaluation_strategy=\"epoch\",\n",
    "    save_strategy=\"epoch\", \n",
    "    logging_steps=logging_steps,\n",
    "    push_to_hub=True,\n",
    "    push_to_hub_model_id=f\"{model_name}-finetuned-amazon_reviews_multi\"\n",
    ")"
   ]
  },
  {
   "cell_type": "code",
   "execution_count": null,
   "id": "d2fdc4a2-4653-49fe-b7aa-660c5d72077d",
   "metadata": {},
   "outputs": [],
   "source": [
    "from transformers import Trainer\n",
    "\n",
    "trainer = Trainer(\n",
    "    model=model, \n",
    "    args=training_args, \n",
    "    compute_metrics=compute_metrics,\n",
    "    train_dataset=train_dataset,\n",
    "    eval_dataset=encoded_dataset[\"validation\"],\n",
    "    tokenizer=tokenizer\n",
    ")"
   ]
  },
  {
   "cell_type": "code",
   "execution_count": 25,
   "id": "9c8a17d4-7939-4ac8-9ab6-ed5be0a00ba6",
   "metadata": {},
   "outputs": [
    {
     "name": "stderr",
     "output_type": "stream",
     "text": [
      "***** Running training *****\n",
      "  Num examples = 20000\n",
      "  Num Epochs = 2\n",
      "  Instantaneous batch size per device = 16\n",
      "  Total train batch size (w. parallel, distributed & accumulation) = 32\n",
      "  Gradient Accumulation steps = 1\n",
      "  Total optimization steps = 1250\n",
      "/home/lewis/miniconda3/envs/hf/lib/python3.8/site-packages/torch/nn/parallel/_functions.py:68: UserWarning: Was asked to gather along dimension 0, but all input tensors were scalars; will instead unsqueeze and return a vector.\n",
      "  warnings.warn('Was asked to gather along dimension 0, but all '\n"
     ]
    },
    {
     "data": {
      "text/html": [
       "\n",
       "    <div>\n",
       "      \n",
       "      <progress value='1250' max='1250' style='width:300px; height:20px; vertical-align: middle;'></progress>\n",
       "      [1250/1250 03:41, Epoch 2/2]\n",
       "    </div>\n",
       "    <table border=\"1\" class=\"dataframe\">\n",
       "  <thead>\n",
       "    <tr style=\"text-align: left;\">\n",
       "      <th>Epoch</th>\n",
       "      <th>Training Loss</th>\n",
       "      <th>Validation Loss</th>\n",
       "      <th>Accuracy</th>\n",
       "    </tr>\n",
       "  </thead>\n",
       "  <tbody>\n",
       "    <tr>\n",
       "      <td>1</td>\n",
       "      <td>0.177600</td>\n",
       "      <td>0.176088</td>\n",
       "      <td>0.929500</td>\n",
       "    </tr>\n",
       "    <tr>\n",
       "      <td>2</td>\n",
       "      <td>0.092400</td>\n",
       "      <td>0.200465</td>\n",
       "      <td>0.930750</td>\n",
       "    </tr>\n",
       "  </tbody>\n",
       "</table><p>"
      ],
      "text/plain": [
       "<IPython.core.display.HTML object>"
      ]
     },
     "metadata": {},
     "output_type": "display_data"
    },
    {
     "name": "stderr",
     "output_type": "stream",
     "text": [
      "***** Running Evaluation *****\n",
      "  Num examples = 4000\n",
      "  Batch size = 32\n",
      "Saving model checkpoint to results/checkpoint-625\n",
      "Configuration saved in results/checkpoint-625/config.json\n",
      "Model weights saved in results/checkpoint-625/pytorch_model.bin\n",
      "tokenizer config file saved in results/checkpoint-625/tokenizer_config.json\n",
      "Special tokens file saved in results/checkpoint-625/special_tokens_map.json\n",
      "/home/lewis/miniconda3/envs/hf/lib/python3.8/site-packages/torch/nn/parallel/_functions.py:68: UserWarning: Was asked to gather along dimension 0, but all input tensors were scalars; will instead unsqueeze and return a vector.\n",
      "  warnings.warn('Was asked to gather along dimension 0, but all '\n",
      "***** Running Evaluation *****\n",
      "  Num examples = 4000\n",
      "  Batch size = 32\n",
      "Saving model checkpoint to results/checkpoint-1250\n",
      "Configuration saved in results/checkpoint-1250/config.json\n",
      "Model weights saved in results/checkpoint-1250/pytorch_model.bin\n",
      "tokenizer config file saved in results/checkpoint-1250/tokenizer_config.json\n",
      "Special tokens file saved in results/checkpoint-1250/special_tokens_map.json\n",
      "\n",
      "\n",
      "Training completed. Do not forget to share your model on huggingface.co/models =)\n",
      "\n",
      "\n",
      "Loading best model from results/checkpoint-1250 (score: 0.93075).\n"
     ]
    },
    {
     "data": {
      "text/plain": [
       "TrainOutput(global_step=1250, training_loss=0.1513079273223877, metrics={'train_runtime': 223.1055, 'train_samples_per_second': 179.287, 'train_steps_per_second': 5.603, 'total_flos': 2744100307436160.0, 'train_loss': 0.1513079273223877, 'epoch': 2.0})"
      ]
     },
     "execution_count": 25,
     "metadata": {},
     "output_type": "execute_result"
    }
   ],
   "source": [
    "trainer.train()"
   ]
  },
  {
   "cell_type": "markdown",
   "id": "1b33bc90-1bce-4eae-9919-4e89da560293",
   "metadata": {},
   "source": [
    "## Empuje hacia el Hugging Face Hub"
   ]
  },
  {
   "cell_type": "code",
   "execution_count": 26,
   "id": "d30b5e20-fda5-4805-bb26-e8f87e7dde00",
   "metadata": {},
   "outputs": [
    {
     "name": "stderr",
     "output_type": "stream",
     "text": [
      "Saving model checkpoint to results\n",
      "Configuration saved in results/config.json\n",
      "Model weights saved in results/pytorch_model.bin\n",
      "tokenizer config file saved in results/tokenizer_config.json\n",
      "Special tokens file saved in results/special_tokens_map.json\n"
     ]
    },
    {
     "data": {
      "text/plain": [
       "'https://huggingface.co/lewtun/roberta-base-bne-finetuned-amazon_reviews_multi/commit/0e74f9c0068eb69400f45fab3e89242b3ecd85f0'"
      ]
     },
     "execution_count": 26,
     "metadata": {},
     "output_type": "execute_result"
    }
   ],
   "source": [
    "trainer.push_to_hub()"
   ]
  },
  {
   "cell_type": "markdown",
   "id": "47f15c05-c94b-4dfd-8282-3ff41b7ebaef",
   "metadata": {},
   "source": [
    "## Descargue el modelo desde el Hub"
   ]
  },
  {
   "cell_type": "code",
   "execution_count": 7,
   "id": "4d4afd85-b413-4058-8e86-2b936b13e544",
   "metadata": {},
   "outputs": [],
   "source": [
    "from transformers import pipeline\n",
    "\n",
    "model_checkpoint = \"lewtun/roberta-base-bne-finetuned-amazon_reviews_multi\"\n",
    "pipe = pipeline(\"sentiment-analysis\", model=model_checkpoint)"
   ]
  },
  {
   "cell_type": "code",
   "execution_count": 8,
   "id": "bdd2b802-9812-4db1-a92c-de7e2a4f42af",
   "metadata": {},
   "outputs": [
    {
     "data": {
      "text/plain": [
       "[{'label': 'LABEL_1', 'score': 0.9972302913665771}]"
      ]
     },
     "execution_count": 8,
     "metadata": {},
     "output_type": "execute_result"
    }
   ],
   "source": [
    "pipe(\"¡me encanta el ipad!\")"
   ]
  },
  {
   "cell_type": "code",
   "execution_count": 9,
   "id": "17b07ff5-699a-4f2f-a5ed-33e2665e20b9",
   "metadata": {},
   "outputs": [],
   "source": [
    "model = AutoModelForSequenceClassification.from_pretrained(model_checkpoint)"
   ]
  },
  {
   "cell_type": "code",
   "execution_count": 10,
   "id": "e0b09023-c86d-432c-8918-f9751fdfd00c",
   "metadata": {},
   "outputs": [],
   "source": [
    "model.config.label2id = {\"NEGATIVO\": 0, \"POSITIVO\": 1}\n",
    "model.config.id2label = {0: \"NEGATIVO\", 1:\"POSITIVO\"}"
   ]
  },
  {
   "cell_type": "code",
   "execution_count": null,
   "id": "98021b41-dfcc-4ece-a7f8-d27f96f38ce5",
   "metadata": {},
   "outputs": [],
   "source": [
    "model.config.push_to_hub(model_checkpoint)"
   ]
  }
 ],
 "metadata": {
  "kernelspec": {
   "display_name": "hf",
   "language": "python",
   "name": "hf"
  },
  "language_info": {
   "codemirror_mode": {
    "name": "ipython",
    "version": 3
   },
   "file_extension": ".py",
   "mimetype": "text/x-python",
   "name": "python",
   "nbconvert_exporter": "python",
   "pygments_lexer": "ipython3",
   "version": "3.8.11"
  }
 },
 "nbformat": 4,
 "nbformat_minor": 5
}
